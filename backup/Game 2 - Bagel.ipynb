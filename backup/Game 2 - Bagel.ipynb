{
 "cells": [
  {
   "cell_type": "markdown",
   "metadata": {},
   "source": [
    "<a href=\"https://www.ired.info/\"> <img src=https://static.wixstatic.com/media/f0796e_231281b10226472f900790f44a2cf6aa~mv2_d_3543_1417_s_2.png/v1/fill/w_724,h_288,al_c,q_85,usm_0.66_1.00_0.01/logo%20with%20stroke.webp alt=\"标题\" style=\"width: 400px;\"/> </a>\n",
    "\n",
    "\n"
   ]
  },
  {
   "cell_type": "markdown",
   "metadata": {},
   "source": [
    "#  Game 2 - Bagels, a number puzzle game\n",
    "## Exercises:\n",
    "\n",
    "1. Can you guess the number?\n",
    "2. How much harder is 6 digits? Do you need more guesses?\n",
    "3. What's the maximum number of digits we could support?\n",
    "\n",
    "Adapted from code in https://inventwithpython.com/chapter11.html"
   ]
  },
  {
   "cell_type": "code",
   "execution_count": null,
   "metadata": {},
   "outputs": [],
   "source": [
    "from adafruit_servokit import ServoKit\n",
    "myKit = ServoKit (channels=16)\n",
    "import time\n",
    "from random import sample, shuffle\n",
    "\n",
    "digits = 3\n",
    "guesses = 10\n",
    "\n",
    "print('I am thinking of a', digits, 'digit number.')\n",
    "print('Try to guess what it is.')\n",
    "print('Here are some clues:')\n",
    "print('When I say:    That means:')\n",
    "print('  pico         One digit is correct but in the wrong position.')\n",
    "print('  fermi        One digit is correct and in the right position.')\n",
    "print('  bagels       No digit is correct.')\n",
    "print('There are no repeated digits in the number.')\n",
    "\n",
    "# Create a random number.\n",
    "\n",
    "letters = sample('0123456789', digits)\n",
    "\n",
    "if letters[0] == '0':\n",
    "    letters.reverse()\n",
    "\n",
    "number = ''.join(letters)\n",
    "\n",
    "print('I have thought up a number.')\n",
    "print('You have', guesses, 'guesses to get it.')\n",
    "\n",
    "counter = 1\n",
    "\n",
    "while True:\n",
    "    print('Guess #', counter)\n",
    "    guess = input()\n",
    "\n",
    "    if len(guess) != digits:\n",
    "        print('Wrong number of digits. Try again!')\n",
    "        continue\n",
    "\n",
    "    # Create the clues.\n",
    "\n",
    "    clues = []\n",
    "\n",
    "    for index in range(digits):\n",
    "        if guess[index] == number[index]:\n",
    "            clues.append('fermi')\n",
    "        elif guess[index] in number:\n",
    "            clues.append('pico')\n",
    "\n",
    "    shuffle(clues)\n",
    "\n",
    "    if len(clues) == 0:\n",
    "        print('bagels')\n",
    "    else:\n",
    "        print(' '.join(clues))\n",
    "\n",
    "    counter += 1\n",
    "\n",
    "    if guess == number:\n",
    "        print('You got it!')\n",
    "        myKit.servo[15].angle = 45\n",
    "        myKit.servo[0].angle = 135\n",
    "        time.sleep(0.5)\n",
    "        myKit.servo[15].angle = 180\n",
    "        myKit.servo[0].angle = 0\n",
    "        break\n",
    "\n",
    "    if counter > guesses:\n",
    "        print('You ran out of guesses. The answer was', number)\n",
    "        break"
   ]
  }
 ],
 "metadata": {
  "kernelspec": {
   "display_name": "Python 3",
   "language": "python",
   "name": "python3"
  },
  "language_info": {
   "codemirror_mode": {
    "name": "ipython",
    "version": 3
   },
   "file_extension": ".py",
   "mimetype": "text/x-python",
   "name": "python",
   "nbconvert_exporter": "python",
   "pygments_lexer": "ipython3",
   "version": "3.6.9"
  }
 },
 "nbformat": 4,
 "nbformat_minor": 4
}
