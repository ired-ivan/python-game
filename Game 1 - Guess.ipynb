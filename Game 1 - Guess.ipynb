{
 "cells": [
  {
   "cell_type": "markdown",
   "metadata": {},
   "source": [
    "<a href=\"https://www.ired.info/\"> <img src=https://static.wixstatic.com/media/f0796e_231281b10226472f900790f44a2cf6aa~mv2_d_3543_1417_s_2.png/v1/fill/w_724,h_288,al_c,q_85,usm_0.66_1.00_0.01/logo%20with%20stroke.webp alt=\"标题\" style=\"width: 400px;\"/> </a>\n"
   ]
  },
  {
   "cell_type": "markdown",
   "metadata": {},
   "source": [
    "# Game 1 - Guess\n",
    "\n",
    "## Exercises:\n",
    "\n",
    "1. Change the range to be from 0 to 1,000,000.\n",
    "2. Print the number of guesses made\n",
    "3. Limit the number of guesses to the minimum required. "
   ]
  },
  {
   "cell_type": "code",
   "execution_count": null,
   "metadata": {},
   "outputs": [],
   "source": [
    "from adafruit_servokit import ServoKit\n",
    "myKit = ServoKit (channels=16)\n",
    "import time\n",
    "import random\n",
    " \n",
    "secret_num = random.randint(1, 100) #Generate a random number\n",
    " \n",
    "while True: #Repeat the guessing process\n",
    "    guess = int(input(\"Please enter your guess: \"))\n",
    "    if guess == secret_num:\n",
    "        print(\"Hit!\")\n",
    "        myKit.servo[15].angle = 45\n",
    "        myKit.servo[0].angle = 135\n",
    "        time.sleep(0.5)\n",
    "        myKit.servo[15].angle = 180\n",
    "        myKit.servo[0].angle = 0\n",
    "        break #End the loop when the guess eqauls to the answer\n",
    "    elif guess < secret_num:\n",
    "        print(\"Your guess is too low.\")\n",
    "    else:\n",
    "        print(\"Your guess is too high.\")"
   ]
  }
 ],
 "metadata": {
  "kernelspec": {
   "display_name": "Python 3",
   "language": "python",
   "name": "python3"
  },
  "language_info": {
   "codemirror_mode": {
    "name": "ipython",
    "version": 3
   },
   "file_extension": ".py",
   "mimetype": "text/x-python",
   "name": "python",
   "nbconvert_exporter": "python",
   "pygments_lexer": "ipython3",
   "version": "3.6.9"
  }
 },
 "nbformat": 4,
 "nbformat_minor": 4
}
